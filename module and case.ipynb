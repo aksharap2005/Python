{
 "cells": [
  {
   "cell_type": "code",
   "execution_count": 31,
   "metadata": {},
   "outputs": [
    {
     "name": "stdout",
     "output_type": "stream",
     "text": [
      "19:10:03\n"
     ]
    }
   ],
   "source": [
    "import time\n",
    "timestamp=time.strftime('%H:%M:%S')\n",
    "print(timestamp)"
   ]
  },
  {
   "cell_type": "code",
   "execution_count": 32,
   "metadata": {},
   "outputs": [
    {
     "name": "stdout",
     "output_type": "stream",
     "text": [
      "2024-02-17 19:10:05.155204\n"
     ]
    }
   ],
   "source": [
    "import datetime\n",
    "tp=datetime.datetime.now()\n",
    "print(tp)\n",
    "year=tp.strftime('%D:%M:%Y')"
   ]
  },
  {
   "cell_type": "code",
   "execution_count": 39,
   "metadata": {},
   "outputs": [
    {
     "name": "stdout",
     "output_type": "stream",
     "text": [
      "number is 4\n"
     ]
    }
   ],
   "source": [
    "x=4\n",
    "match x:\n",
    "    case 1:\n",
    "        print(\"Number is 1\")\n",
    "    case 2:\n",
    "        print(\"Number is 2\")\n",
    "    case 3:\n",
    "        print(\"number is 3\")\n",
    "    case 4:\n",
    "        print(\"number is 4\")\n",
    "    case _:\n",
    "        print(\"Wrong choice\")"
   ]
  },
  {
   "cell_type": "code",
   "execution_count": 50,
   "metadata": {},
   "outputs": [
    {
     "name": "stdout",
     "output_type": "stream",
     "text": [
      "Vowel\n"
     ]
    }
   ],
   "source": [
    "var=input(\"Enter an alphabet\")\n",
    "match var:\n",
    "    case 'a':\n",
    "        print(\"Vowel\")\n",
    "    case 'e':\n",
    "        print(\"Vowel\")\n",
    "    case 'i':\n",
    "        print(\"Vowel\")\n",
    "    case 'o':\n",
    "        print(\"Vowel\")\n",
    "    case 'u':\n",
    "        print(\"Vowel\")\n",
    "    case 'A':\n",
    "        print(\"Vowel\")\n",
    "    case 'E':\n",
    "        print(\"Vowel\")\n",
    "    case 'I':\n",
    "        print(\"Vowel\")\n",
    "    case 'O':\n",
    "        print(\"Vowel\")\n",
    "    case 'U':\n",
    "        print(\"Vowel\")\n",
    "    case _:\n",
    "        print(\"Consonant\")\n"
   ]
  },
  {
   "cell_type": "code",
   "execution_count": 65,
   "metadata": {},
   "outputs": [
    {
     "name": "stdout",
     "output_type": "stream",
     "text": [
      "90 is not 80\n"
     ]
    }
   ],
   "source": [
    "num=int(input(\"Enter a number\"))\n",
    "match num:\n",
    "    case 0:\n",
    "        print(\"nmber is 0\")\n",
    "    case 1:\n",
    "        print(\"number is 1\")\n",
    "    case _ if num!=90:\n",
    "        print(num,\"is not 90\")\n",
    "    case _ if num!=80:\n",
    "        print(num,\"is not 80\")"
   ]
  },
  {
   "cell_type": "code",
   "execution_count": 12,
   "metadata": {},
   "outputs": [
    {
     "name": "stdout",
     "output_type": "stream",
     "text": [
      "Number is odd\n"
     ]
    }
   ],
   "source": [
    "num=int(input(\"Enter a number\"))\n",
    "match num:\n",
    "    case _ if num<0:\n",
    "        print(\"Number is negative\")\n",
    "    case _ if num%2==0:\n",
    "        print(\"Number is even\")\n",
    "    case _ if num%2==1:\n",
    "            print(\"Number is odd\")\n",
    "    "
   ]
  },
  {
   "cell_type": "code",
   "execution_count": null,
   "metadata": {},
   "outputs": [],
   "source": []
  },
  {
   "cell_type": "code",
   "execution_count": null,
   "metadata": {},
   "outputs": [],
   "source": []
  }
 ],
 "metadata": {
  "kernelspec": {
   "display_name": "Python 3",
   "language": "python",
   "name": "python3"
  },
  "language_info": {
   "codemirror_mode": {
    "name": "ipython",
    "version": 3
   },
   "file_extension": ".py",
   "mimetype": "text/x-python",
   "name": "python",
   "nbconvert_exporter": "python",
   "pygments_lexer": "ipython3",
   "version": "3.12.1"
  }
 },
 "nbformat": 4,
 "nbformat_minor": 2
}
