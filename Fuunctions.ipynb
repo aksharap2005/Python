{
 "cells": [
  {
   "cell_type": "code",
   "execution_count": 3,
   "metadata": {},
   "outputs": [
    {
     "name": "stdout",
     "output_type": "stream",
     "text": [
      "8\n"
     ]
    }
   ],
   "source": [
    "def add(num1,num2):\n",
    "    print(num1+num2)\n",
    "add(6,2)"
   ]
  },
  {
   "cell_type": "code",
   "execution_count": 4,
   "metadata": {},
   "outputs": [
    {
     "name": "stdout",
     "output_type": "stream",
     "text": [
      "Hello Akshara Uday Panikar\n"
     ]
    }
   ],
   "source": [
    "def name(fname,mname,lname):\n",
    "    print(\"Hello\",fname,mname,lname)\n",
    "name(\"Akshara\",\"Uday\",\"Panikar\")"
   ]
  },
  {
   "cell_type": "code",
   "execution_count": 6,
   "metadata": {},
   "outputs": [
    {
     "name": "stdout",
     "output_type": "stream",
     "text": [
      "Hello Akshara Udayan Panikar\n",
      "Hello ABC Udayan Panikar\n"
     ]
    }
   ],
   "source": [
    "#DEFAULT FUNCTION\n",
    "\n",
    "def name(fname,mname=\"Udayan\",lname=\"Panikar\"):\n",
    "    print(\"Hello\",fname,mname,lname)\n",
    "name(\"Akshara\")\n",
    "name(\"ABC\")"
   ]
  },
  {
   "cell_type": "code",
   "execution_count": 10,
   "metadata": {},
   "outputs": [
    {
     "name": "stdout",
     "output_type": "stream",
     "text": [
      "Hello Ava Alex Volkov\n"
     ]
    }
   ],
   "source": [
    "#KEYWORD ARGUMENT\n",
    "\n",
    "def name(fname,mname,lname):\n",
    "    print(\"Hello\",fname,mname,lname)\n",
    "name(fname=\"Ava\",lname=\"Volkov\",mname=\"Alex\")"
   ]
  },
  {
   "cell_type": "code",
   "execution_count": 11,
   "metadata": {},
   "outputs": [
    {
     "name": "stdout",
     "output_type": "stream",
     "text": [
      "Hello Stella Astor Alonso\n"
     ]
    }
   ],
   "source": [
    "#VARIABLE LENGTH ARGUMENTS (ARBITARY ARGUMENTS)\n",
    "\n",
    "def name(*name):\n",
    "    print(\"Hello\",name[2],name[1],name[0])\n",
    "name(\"Alonso\",\"Astor\",\"Stella\")"
   ]
  },
  {
   "cell_type": "code",
   "execution_count": 12,
   "metadata": {},
   "outputs": [
    {
     "name": "stdout",
     "output_type": "stream",
     "text": [
      "Hello Bridget Rhys Larson\n"
     ]
    }
   ],
   "source": [
    "#KEYWORD ARBITARY ARGUMENTS\n",
    "\n",
    "def name(**name):\n",
    "    print(\"Hello\",name[\"fname\"],name[\"mname\"],name[\"lname\"])\n",
    "\n",
    "name(mname=\"Rhys\",lname=\"Larson\",fname=\"Bridget\")"
   ]
  },
  {
   "cell_type": "code",
   "execution_count": 144,
   "metadata": {},
   "outputs": [
    {
     "name": "stdout",
     "output_type": "stream",
     "text": [
      "Total is: 389\n",
      "Average is 77.8\n",
      "Distinction\n",
      "Mininum is 56\n",
      "78 56 78 98 79\n",
      "Maximum is None\n"
     ]
    }
   ],
   "source": [
    "import math\n",
    "m1=int(input(\"Enter the first subject name\"))\n",
    "m2=int(input(\"Enter the second subject name\"))\n",
    "m3=int(input(\"Enter the Third subject marks\"))\n",
    "m4=int(input(\"Enter the fourth subject number\"))\n",
    "m5=int(input(\"Enter the fivth subject number\"))\n",
    "\n",
    "sum1=m1+m2+m3+m4+m5\n",
    "def total(sum1):\n",
    "    print(\"Total is:\",sum1)\n",
    "total(sum1)\n",
    "\n",
    "avera=sum1/5\n",
    "def average(avera):\n",
    "    print(\"Average is\",avera)\n",
    "average(avera)\n",
    "\n",
    "def grade():\n",
    "    if avera<35:\n",
    "        print(\"Fail\")\n",
    "    elif (avera<35) and (avera>60):\n",
    "        print(\"Second class\")\n",
    "    elif (avera<60) and (avera>75):\n",
    "        print(\"1st classs\")\n",
    "    else:\n",
    "        print(\"Distinction\")\n",
    "grade()\n",
    "\n",
    "def get_min():\n",
    "    print(\"Mininum is\",min(m1,m2,m3,m4,m5))\n",
    "get_min()\n",
    "\n",
    "def get_max():\n",
    "    print(\"Maximum is\",max(m1,m2,m3,m4,m5))\n",
    "get_max()\n",
    "    \n",
    "\n",
    "\n"
   ]
  },
  {
   "cell_type": "code",
   "execution_count": 148,
   "metadata": {},
   "outputs": [
    {
     "name": "stdout",
     "output_type": "stream",
     "text": [
      "Total is: 415\n",
      "Average is 83.0\n",
      "Distinction\n",
      "Mininum is 67\n",
      "89 67 89 80 90\n",
      "Maximum is None\n"
     ]
    }
   ],
   "source": [
    "\n",
    "\n",
    "m1=int(input(\"Enter the first subject name\"))\n",
    "m2=int(input(\"Enter the second subject name\"))\n",
    "m3=int(input(\"Enter the Third subject marks\"))\n",
    "m4=int(input(\"Enter the fourth subject number\"))\n",
    "m5=int(input(\"Enter the fivth subject number\"))\n",
    "\n",
    "sum1=m1+m2+m3+m4+m5\n",
    "def total(sum1):\n",
    "    print(\"Total is:\",sum1)\n",
    "total(sum1)\n",
    "\n",
    "avera=sum1/5\n",
    "def average(avera):\n",
    "    print(\"Average is\",avera)\n",
    "average(avera)\n",
    "\n",
    "def grade():\n",
    "    if avera<35:\n",
    "        print(\"Fail\")\n",
    "    elif (avera<35) and (avera>60):\n",
    "        print(\"Second class\")\n",
    "    elif (avera<60) and (avera>75):\n",
    "        print(\"1st classs\")\n",
    "    else:\n",
    "        print(\"Distinction\")\n",
    "grade()\n",
    "\n",
    "def get_min():\n",
    "    print(\"Mininum is\",min(m1,m2,m3,m4,m5))\n",
    "get_min()\n",
    "\n",
    "def maximum1():\n",
    "    print(\"Maximum is\",max(m1,m2,m3,m4,m5))\n",
    "maximum1()\n",
    "    "
   ]
  },
  {
   "cell_type": "code",
   "execution_count": null,
   "metadata": {},
   "outputs": [],
   "source": [
    " "
   ]
  }
 ],
 "metadata": {
  "kernelspec": {
   "display_name": "Python 3",
   "language": "python",
   "name": "python3"
  },
  "language_info": {
   "codemirror_mode": {
    "name": "ipython",
    "version": 3
   },
   "file_extension": ".py",
   "mimetype": "text/x-python",
   "name": "python",
   "nbconvert_exporter": "python",
   "pygments_lexer": "ipython3",
   "version": "3.12.1"
  }
 },
 "nbformat": 4,
 "nbformat_minor": 2
}
